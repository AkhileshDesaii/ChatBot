{
 "cells": [
  {
   "cell_type": "markdown",
   "id": "788af46e",
   "metadata": {},
   "source": [
    "# Importing the libraries"
   ]
  },
  {
   "cell_type": "code",
   "execution_count": 1,
   "id": "2b5fbaa4",
   "metadata": {},
   "outputs": [],
   "source": [
    "import numpy as np\n",
    "import nltk\n",
    "import string\n",
    "import random"
   ]
  },
  {
   "cell_type": "markdown",
   "id": "c8ec4f5e",
   "metadata": {},
   "source": [
    "# Importing and reading the corpus"
   ]
  },
  {
   "cell_type": "code",
   "execution_count": 2,
   "id": "b61c0e47",
   "metadata": {},
   "outputs": [
    {
     "name": "stderr",
     "output_type": "stream",
     "text": [
      "[nltk_data] Downloading package punkt to\n",
      "[nltk_data]     C:\\Users\\user\\AppData\\Roaming\\nltk_data...\n",
      "[nltk_data]   Package punkt is already up-to-date!\n",
      "[nltk_data] Error loading word.net: Package 'word.net' not found in\n",
      "[nltk_data]     index\n"
     ]
    }
   ],
   "source": [
    "f=open('chatbot.txt','r',errors = 'ignore')\n",
    "raw_doc = f.read()\n",
    "raw_doc = raw_doc.lower() #Converts text to lower case\n",
    "nltk.download('punkt') #Using the Punkt tokenizer\n",
    "nltk.download('word.net') #Using the WordNet dictionary\n",
    "sent_tokens = nltk.sent_tokenize(raw_doc) #Converts doc to list of sentences\n",
    "word_tokens = nltk.word_tokenize(raw_doc) #Converts doc to list of wc\n"
   ]
  },
  {
   "cell_type": "markdown",
   "id": "7bc45f3d",
   "metadata": {},
   "source": [
    "# Example of sentence tokens"
   ]
  },
  {
   "cell_type": "code",
   "execution_count": 3,
   "id": "9f082bec",
   "metadata": {},
   "outputs": [
    {
     "data": {
      "text/plain": [
       "['data science is an interdisciplinary field that uses scientific methods, processes, algorithms and systems to extract knowledge and insights from noisy, structured and unstructured data,[1][2] and apply knowledge from data across a broad range of application domains.',\n",
       " 'data science is related to data mining, machine learning and big data.']"
      ]
     },
     "execution_count": 3,
     "metadata": {},
     "output_type": "execute_result"
    }
   ],
   "source": [
    "sent_tokens[:2]"
   ]
  },
  {
   "cell_type": "markdown",
   "id": "9dcd459a",
   "metadata": {},
   "source": [
    "# Example of word tokens"
   ]
  },
  {
   "cell_type": "code",
   "execution_count": 4,
   "id": "1d9d0a6f",
   "metadata": {},
   "outputs": [
    {
     "data": {
      "text/plain": [
       "['data', 'science']"
      ]
     },
     "execution_count": 4,
     "metadata": {},
     "output_type": "execute_result"
    }
   ],
   "source": [
    "word_tokens[:2]"
   ]
  },
  {
   "cell_type": "markdown",
   "id": "bd5f002b",
   "metadata": {},
   "source": [
    "# Text preporocessing"
   ]
  },
  {
   "cell_type": "code",
   "execution_count": 5,
   "id": "f1c49a42",
   "metadata": {},
   "outputs": [],
   "source": [
    "lemmer = nltk.stem.WordNetLemmatizer()\n",
    "#WordNet is a semantically-oriented dictionary of English included in NLTK.\n",
    "def LemTokens(tokens):\n",
    "  return [lemmer.lemmatize(token) for token in tokens]\n",
    "remove_punct_dic = dict((ord(punct), None) for punct in string.punctuation)\n",
    "def LemNormalize(text):\n",
    "  return LemTokens(nltk.word_tokenize(text.lower().translate(remove_punct_dict)))"
   ]
  },
  {
   "cell_type": "markdown",
   "id": "eb8d3166",
   "metadata": {},
   "source": [
    "# Defining the greeting function"
   ]
  },
  {
   "cell_type": "code",
   "execution_count": 6,
   "id": "e286930c",
   "metadata": {},
   "outputs": [],
   "source": [
    "GREET_INPUTS = (\"hello\", \"hi\", \"greetings\", \"sup\", \"what's up\", \"hey\")\n",
    "GREET_RESPONSES = [\"hi\", \"hey\", \"*nods\", \"hi there\", \"hello\", \"I am glad! You are talking to me\"]\n",
    "def greet(sentence):\n",
    "\n",
    "  for word in sentence.split():\n",
    "    if word.lower() in GREET_INPUTS:\n",
    "      return random.choice(GREET_RESPONSES)"
   ]
  },
  {
   "cell_type": "markdown",
   "id": "1d6e03f4",
   "metadata": {},
   "source": [
    "# Response generation"
   ]
  },
  {
   "cell_type": "code",
   "execution_count": 7,
   "id": "f105352d",
   "metadata": {},
   "outputs": [],
   "source": [
    "from sklearn.feature_extraction.text import TfidfVectorizer\n",
    "from sklearn.metrics.pairwise import cosine_similarity"
   ]
  },
  {
   "cell_type": "code",
   "execution_count": 8,
   "id": "f875c56f",
   "metadata": {},
   "outputs": [],
   "source": [
    "def response(user_respose):\n",
    "  robo1_response=''\n",
    "  TfidVec =TfidVectorizer(tokenizer=LemNormalize, stop_words='english')\n",
    "  tfidf = TfidVec.fit_transform(sent_tokens)\n",
    "  vals = cosine_similarity(tfidf[-1], tfidf)\n",
    "  idx=vals.argsort()[0][-2]\n",
    "  flat = vals.flatten()\n",
    "  flat.sort()\n",
    "  req_tfidf = flat[-2]\n",
    "  if(req_tfidf==0):\n",
    "    robo1_response=robo1_response+\"I am sorry! I dont understand you\"\n",
    "    return robo1_response\n",
    "  else:\n",
    "    robo1_response = robo1_response+sent_tokens[idx]\n",
    "    return robo1_response"
   ]
  },
  {
   "cell_type": "markdown",
   "id": "2682f2dc",
   "metadata": {},
   "source": [
    "# Defining conversation start/end protocols"
   ]
  },
  {
   "cell_type": "code",
   "execution_count": 9,
   "id": "4b587026",
   "metadata": {},
   "outputs": [
    {
     "name": "stdout",
     "output_type": "stream",
     "text": [
      "BOT: My name is Akhil. Let's have a conversation! Also, if you want to exit any time, just type Bye!\n",
      "hello\n",
      "BOT: *nods\n",
      "bye\n",
      "BOT: Goodbye! Take care <3\n"
     ]
    }
   ],
   "source": [
    "flag=True\n",
    "print(\"BOT: My name is Akhil. Let's have a conversation! Also, if you want to exit any time, just type Bye!\")\n",
    "while(flag==True):\n",
    "  user_response = input()\n",
    "  user_response=user_response.lower()\n",
    "  if(user_response!='bye'):\n",
    "    if(user_response=='thanks' or user_response=='thank yoy'):\n",
    "      flag=False\n",
    "      print(\"BOT: You are welcome..\")\n",
    "    else:\n",
    "      if(greet(user_response)!=None):\n",
    "        print(\"BOT: \"+greet(user_response))\n",
    "      else:\n",
    "        sent_tokens.append(user_response)\n",
    "        word_tokens=word_tokens+nltk.word_tokenize(user_response)\n",
    "        final_words=list(set(word_tokens))\n",
    "        print(\"BOT: \",end=\"\")\n",
    "        print(response(user_response))\n",
    "        sent_tokens.remove(user_response)\n",
    "  else:\n",
    "    flag=False\n",
    "    print(\"BOT: Goodbye! Take care <3\")"
   ]
  },
  {
   "cell_type": "code",
   "execution_count": null,
   "id": "e768fadf",
   "metadata": {},
   "outputs": [],
   "source": []
  }
 ],
 "metadata": {
  "kernelspec": {
   "display_name": "Python 3 (ipykernel)",
   "language": "python",
   "name": "python3"
  },
  "language_info": {
   "codemirror_mode": {
    "name": "ipython",
    "version": 3
   },
   "file_extension": ".py",
   "mimetype": "text/x-python",
   "name": "python",
   "nbconvert_exporter": "python",
   "pygments_lexer": "ipython3",
   "version": "3.9.7"
  }
 },
 "nbformat": 4,
 "nbformat_minor": 5
}
